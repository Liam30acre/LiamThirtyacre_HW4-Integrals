{
 "cells": [
  {
   "cell_type": "code",
   "execution_count": null,
   "metadata": {},
   "outputs": [],
   "source": [
    "%matplotlib inline\n",
    "import numpy as np\n",
    "import matplotlib as plt"
   ]
  },
  {
   "cell_type": "code",
   "execution_count": null,
   "metadata": {},
   "outputs": [],
   "source": [
    "#define function to integrate\n",
    "def func(x):\n",
    "    a = np.exp(-2*x)\n",
    "    b = np.cos(10*x)\n",
    "    return a*b"
   ]
  },
  {
   "cell_type": "code",
   "execution_count": null,
   "metadata": {},
   "outputs": [],
   "source": [
    "#starting the trapeziod method\n",
    "def trapezoid_core(f,x,h):\n",
    "    return 0.5*h*(f(x+h) + f(x))   #takes avg of 2 sides times width of\n",
    "                                   #trapeziod"
   ]
  },
  {
   "cell_type": "code",
   "execution_count": null,
   "metadata": {},
   "outputs": [],
   "source": [
    "#wrapper function to preform method\n",
    "\n",
    "def trap_method(f,a,b,N):\n",
    "    #f == func to integrate \n",
    "    #a == lower lim\n",
    "    #b == upper lim\n",
    "    #N == numb of func evaluations \n",
    "    #note the number of chunks will be N-1\n",
    "    # if N is odd we dont need to adjust last segment\n",
    "    # trap method takes 2 func evaluations, we need to stop before we \n",
    "    #pass the end of func\n",
    "    \n",
    "    #def x values to preform trap method\n",
    "    x = np.linspace(a,b,N)\n",
    "    h = x[1]-x[0]\n",
    "    \n",
    "    #def value pf integral\n",
    "    Fint = 0.0\n",
    "    \n",
    "    z = 0\n",
    "    \n",
    "    #preform integral useing trap method\n",
    "    for i in range(0,len(x)-1,1):\n",
    "        Fint += trapezoid_core(f,x[i],h)\n",
    "        z += 1\n",
    "        print(\"iteration:\",z)\n",
    "        #brings core into for loop\n",
    "    print(\"found in\")\n",
    "    #return answer \n",
    "    return Fint"
   ]
  },
  {
   "cell_type": "code",
   "execution_count": null,
   "metadata": {},
   "outputs": [],
   "source": [
    "#start simpsons method\n",
    "def simpson_core(f,x,h):\n",
    "    return h*( f(x) + 4*f(x+h) + f(x+2*h))/3"
   ]
  },
  {
   "cell_type": "code",
   "execution_count": null,
   "metadata": {},
   "outputs": [],
   "source": [
    "#def wrapper to preform simps method\n",
    "\n",
    "def simpsons_method(f,a,b,N):\n",
    "      #f == func to integrate \n",
    "    #a == lower lim\n",
    "    #b == upper lim\n",
    "    #N == numb of func evaluations \n",
    "    #note the number of chunks will be N-1\n",
    "    # if N is odd we dont need to adjust last segment\n",
    "    # trap method takes 2 func evaluations, we need to stop before we \n",
    "    #pass the end of func\n",
    "    \n",
    "    #def x values to preform simps method\n",
    "    x = np.linspace(a,b,N)\n",
    "    h = x[1]-x[0]\n",
    "    \n",
    "    #def value pf integral\n",
    "    Fint = 0.0\n",
    "    \n",
    "    \n",
    "    #if N is odd or even we have different numb of chuncks to add\n",
    "    if((N%2)==0):\n",
    "        lim = 3\n",
    "    else:\n",
    "        lim = 2\n",
    "        \n",
    "    #preform integral useing simps method\n",
    "    for i in range(0,len(x)-2,2):\n",
    "        #z += 1\n",
    "        #print(\"iteration:\",z)\n",
    "        Fint += simpson_core(f,x[i],h)\n",
    "        print(i,i+2,x[i],x[i]+h,x[i]+2*h,x[-2],x[-1])\n",
    "        \n",
    "    #apply simps rule over las interval if N is even\n",
    "    if((N%2)==0):\n",
    "        Fint += simpson_core(f,x[-2],0.5*h) #index array from back\n",
    "                                     #splits last chunck in 2\n",
    "        \n",
    "    return Fint"
   ]
  },
  {
   "cell_type": "code",
   "execution_count": null,
   "metadata": {},
   "outputs": [],
   "source": [
    "#start romberg\n",
    "def romberg_core(f,a,b,I,i):\n",
    "    # i == itteration we're on\n",
    "    \n",
    "    #we need a difference b-a first width of first trap\n",
    "    h = b-a\n",
    "    \n",
    "    #and incriment between new func evals\n",
    "    dh = h/2.**(i) # each time we go through we need to cut width in half\n",
    "    \n",
    "    #def a coefactor\n",
    "    K = h/2.**(i+1)   #what we divide with\n",
    "    \n",
    "    #func evals\n",
    "    M = 0.0\n",
    "    for j in range(2**i):\n",
    "        M += f(a + 0.5*dh + j*dh)\n",
    "        \n",
    "    #return answer\n",
    "    return K*M"
   ]
  },
  {
   "cell_type": "code",
   "execution_count": null,
   "metadata": {},
   "outputs": [],
   "source": [
    "def romberg_integration(f,a,b,tol):\n",
    "    \n",
    "    #def an iteration variable\n",
    "    i = 0\n",
    "    \n",
    "    #def a max number of iterations\n",
    "    imax = 1000\n",
    "    \n",
    "    #def an error estimate, set to a large value\n",
    "    delta = 100.0*np.fabs(tol)\n",
    "    \n",
    "    #set an array of integral answers\n",
    "    I = np.zeros(imax,dtype=float)\n",
    "    \n",
    "    #get the zeroth romberg iteration\n",
    "    I[0] = 0.5*(b-a)*(f(a) + f(b))\n",
    "    \n",
    "    #iterate by 1\n",
    "    \n",
    "    i += 1\n",
    "    \n",
    "    while(delta>tol):\n",
    "        \n",
    "        #find this romb iterattion\n",
    "        \n",
    "        I[i] = 0.5*I[i-1] + romberg_core(f,a,b,I,i)\n",
    "        \n",
    "        #compute the new fractional error estimate\n",
    "        delta = np.fabs( (I[i]-I[i-1])/I[i])\n",
    "        \n",
    "        print(i,I[i],I[i-1],delta)\n",
    "        \n",
    "        if(delta>tol):\n",
    "            \n",
    "            #iterate\n",
    "            i +=1\n",
    "            \n",
    "            #if we reached the max iterations\n",
    "            \n",
    "            if(i>imax):\n",
    "                print(\"Max iterations reached.\")\n",
    "                raise StopIteration('Stopping iterations after ',i)\n",
    "                \n",
    "    #return answer\n",
    "    return I[i]"
   ]
  },
  {
   "cell_type": "code",
   "execution_count": null,
   "metadata": {},
   "outputs": [
    {
     "name": "stdout",
     "output_type": "stream",
     "text": [
      "24 0.019194907817322197 0.019194958764104236 2.654182167712595e-06\n",
      "25 0.01919488234392562 0.019194907817322197 1.3270931344985499e-06\n"
     ]
    }
   ],
   "source": [
    "#Answer = func_integral(1)-func_integral(0)\n",
    "#print(Answer)\n",
    "print(\"Trapeziod\")\n",
    "print(trap_method(func,0,np.pi,10))\n",
    "print(\"Simpson's Method\")\n",
    "print(simpsons_method(func,0,np.pi,10))\n",
    "print(\"Romberg\")\n",
    "tolerance = 1.0e-6\n",
    "RI = romberg_integration(func,0,np.pi,tolerance)\n",
    "#print(RI, (RI-Answer)/Answer, tolerance)"
   ]
  },
  {
   "cell_type": "code",
   "execution_count": null,
   "metadata": {},
   "outputs": [],
   "source": []
  },
  {
   "cell_type": "code",
   "execution_count": null,
   "metadata": {},
   "outputs": [],
   "source": []
  },
  {
   "cell_type": "code",
   "execution_count": null,
   "metadata": {},
   "outputs": [],
   "source": []
  }
 ],
 "metadata": {
  "kernelspec": {
   "display_name": "Python 3",
   "language": "python",
   "name": "python3"
  },
  "language_info": {
   "codemirror_mode": {
    "name": "ipython",
    "version": 3
   },
   "file_extension": ".py",
   "mimetype": "text/x-python",
   "name": "python",
   "nbconvert_exporter": "python",
   "pygments_lexer": "ipython3",
   "version": "3.6.5"
  }
 },
 "nbformat": 4,
 "nbformat_minor": 2
}
